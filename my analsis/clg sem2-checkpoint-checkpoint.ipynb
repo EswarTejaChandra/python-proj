{
 "cells": [
  {
   "cell_type": "code",
   "execution_count": 1,
   "id": "a368de0c-a39f-4ed3-9408-99cc2f3ed053",
   "metadata": {},
   "outputs": [
    {
     "data": {
      "text/html": [
       "<div>\n",
       "<style scoped>\n",
       "    .dataframe tbody tr th:only-of-type {\n",
       "        vertical-align: middle;\n",
       "    }\n",
       "\n",
       "    .dataframe tbody tr th {\n",
       "        vertical-align: top;\n",
       "    }\n",
       "\n",
       "    .dataframe thead th {\n",
       "        text-align: right;\n",
       "    }\n",
       "</style>\n",
       "<table border=\"1\" class=\"dataframe\">\n",
       "  <thead>\n",
       "    <tr style=\"text-align: right;\">\n",
       "      <th></th>\n",
       "      <th>names</th>\n",
       "      <th>section</th>\n",
       "      <th>sem1</th>\n",
       "      <th>sem2</th>\n",
       "      <th>sem3</th>\n",
       "      <th>sem4</th>\n",
       "      <th>roll no.</th>\n",
       "    </tr>\n",
       "  </thead>\n",
       "  <tbody>\n",
       "    <tr>\n",
       "      <th>0</th>\n",
       "      <td>q</td>\n",
       "      <td>cse-ds</td>\n",
       "      <td>55.65</td>\n",
       "      <td>78.60</td>\n",
       "      <td>45.30</td>\n",
       "      <td>55.65</td>\n",
       "      <td>21HU1A4401</td>\n",
       "    </tr>\n",
       "    <tr>\n",
       "      <th>1</th>\n",
       "      <td>w</td>\n",
       "      <td>cse-ds</td>\n",
       "      <td>33.25</td>\n",
       "      <td>62.30</td>\n",
       "      <td>33.25</td>\n",
       "      <td>89.20</td>\n",
       "      <td>21HU1A4402</td>\n",
       "    </tr>\n",
       "    <tr>\n",
       "      <th>2</th>\n",
       "      <td>e</td>\n",
       "      <td>cse-ds</td>\n",
       "      <td>99.20</td>\n",
       "      <td>48.30</td>\n",
       "      <td>99.20</td>\n",
       "      <td>87.20</td>\n",
       "      <td>21HU1A4403</td>\n",
       "    </tr>\n",
       "    <tr>\n",
       "      <th>3</th>\n",
       "      <td>r</td>\n",
       "      <td>cse-ds</td>\n",
       "      <td>55.65</td>\n",
       "      <td>45.30</td>\n",
       "      <td>55.65</td>\n",
       "      <td>36.30</td>\n",
       "      <td>21HU1A4404</td>\n",
       "    </tr>\n",
       "    <tr>\n",
       "      <th>4</th>\n",
       "      <td>t</td>\n",
       "      <td>cse-ds</td>\n",
       "      <td>89.20</td>\n",
       "      <td>89.50</td>\n",
       "      <td>89.20</td>\n",
       "      <td>5.20</td>\n",
       "      <td>21HU1A4405</td>\n",
       "    </tr>\n",
       "    <tr>\n",
       "      <th>5</th>\n",
       "      <td>yu</td>\n",
       "      <td>cse-ds</td>\n",
       "      <td>87.20</td>\n",
       "      <td>75.30</td>\n",
       "      <td>62.30</td>\n",
       "      <td>45.30</td>\n",
       "      <td>21HU1A4406</td>\n",
       "    </tr>\n",
       "    <tr>\n",
       "      <th>6</th>\n",
       "      <td>u</td>\n",
       "      <td>cse-ds</td>\n",
       "      <td>36.30</td>\n",
       "      <td>67.20</td>\n",
       "      <td>48.30</td>\n",
       "      <td>33.25</td>\n",
       "      <td>21HU1A4407</td>\n",
       "    </tr>\n",
       "    <tr>\n",
       "      <th>7</th>\n",
       "      <td>i</td>\n",
       "      <td>cse-ds</td>\n",
       "      <td>55.30</td>\n",
       "      <td>98.30</td>\n",
       "      <td>45.30</td>\n",
       "      <td>99.20</td>\n",
       "      <td>21HU1A4408</td>\n",
       "    </tr>\n",
       "    <tr>\n",
       "      <th>8</th>\n",
       "      <td>o</td>\n",
       "      <td>cse-ds</td>\n",
       "      <td>45.30</td>\n",
       "      <td>65.20</td>\n",
       "      <td>89.50</td>\n",
       "      <td>55.65</td>\n",
       "      <td>21HU1A4409</td>\n",
       "    </tr>\n",
       "    <tr>\n",
       "      <th>9</th>\n",
       "      <td>p</td>\n",
       "      <td>cse-ds</td>\n",
       "      <td>45.60</td>\n",
       "      <td>65.20</td>\n",
       "      <td>75.30</td>\n",
       "      <td>89.20</td>\n",
       "      <td>21HU1A4410</td>\n",
       "    </tr>\n",
       "    <tr>\n",
       "      <th>10</th>\n",
       "      <td>a</td>\n",
       "      <td>cse-ds</td>\n",
       "      <td>78.60</td>\n",
       "      <td>55.65</td>\n",
       "      <td>67.20</td>\n",
       "      <td>87.20</td>\n",
       "      <td>21HU1A4411</td>\n",
       "    </tr>\n",
       "    <tr>\n",
       "      <th>11</th>\n",
       "      <td>s</td>\n",
       "      <td>cse-ds</td>\n",
       "      <td>62.30</td>\n",
       "      <td>33.25</td>\n",
       "      <td>98.30</td>\n",
       "      <td>36.30</td>\n",
       "      <td>21HU1A4412</td>\n",
       "    </tr>\n",
       "    <tr>\n",
       "      <th>12</th>\n",
       "      <td>d</td>\n",
       "      <td>cse-ds</td>\n",
       "      <td>48.30</td>\n",
       "      <td>99.20</td>\n",
       "      <td>65.20</td>\n",
       "      <td>5.20</td>\n",
       "      <td>21HU1A4413</td>\n",
       "    </tr>\n",
       "    <tr>\n",
       "      <th>13</th>\n",
       "      <td>f</td>\n",
       "      <td>cse-ds</td>\n",
       "      <td>45.30</td>\n",
       "      <td>55.65</td>\n",
       "      <td>78.60</td>\n",
       "      <td>45.30</td>\n",
       "      <td>21HU1A4414</td>\n",
       "    </tr>\n",
       "    <tr>\n",
       "      <th>14</th>\n",
       "      <td>g</td>\n",
       "      <td>cse-ds</td>\n",
       "      <td>89.50</td>\n",
       "      <td>89.20</td>\n",
       "      <td>62.30</td>\n",
       "      <td>78.60</td>\n",
       "      <td>21HU1A4415</td>\n",
       "    </tr>\n",
       "    <tr>\n",
       "      <th>15</th>\n",
       "      <td>h</td>\n",
       "      <td>cse-ds</td>\n",
       "      <td>75.30</td>\n",
       "      <td>87.20</td>\n",
       "      <td>48.30</td>\n",
       "      <td>62.30</td>\n",
       "      <td>21HU1A4416</td>\n",
       "    </tr>\n",
       "    <tr>\n",
       "      <th>16</th>\n",
       "      <td>j</td>\n",
       "      <td>cse-ds</td>\n",
       "      <td>67.20</td>\n",
       "      <td>36.30</td>\n",
       "      <td>45.30</td>\n",
       "      <td>48.30</td>\n",
       "      <td>21HU1A4417</td>\n",
       "    </tr>\n",
       "    <tr>\n",
       "      <th>17</th>\n",
       "      <td>k</td>\n",
       "      <td>cse-ds</td>\n",
       "      <td>98.30</td>\n",
       "      <td>55.20</td>\n",
       "      <td>55.65</td>\n",
       "      <td>45.30</td>\n",
       "      <td>21HU1A4418</td>\n",
       "    </tr>\n",
       "    <tr>\n",
       "      <th>18</th>\n",
       "      <td>l</td>\n",
       "      <td>cse-ds</td>\n",
       "      <td>65.20</td>\n",
       "      <td>45.30</td>\n",
       "      <td>89.20</td>\n",
       "      <td>NaN</td>\n",
       "      <td>21HU1A4419</td>\n",
       "    </tr>\n",
       "  </tbody>\n",
       "</table>\n",
       "</div>"
      ],
      "text/plain": [
       "   names section   sem1   sem2   sem3   sem4    roll no.\n",
       "0      q  cse-ds  55.65  78.60  45.30  55.65  21HU1A4401\n",
       "1      w  cse-ds  33.25  62.30  33.25  89.20  21HU1A4402\n",
       "2      e  cse-ds  99.20  48.30  99.20  87.20  21HU1A4403\n",
       "3      r  cse-ds  55.65  45.30  55.65  36.30  21HU1A4404\n",
       "4      t  cse-ds  89.20  89.50  89.20   5.20  21HU1A4405\n",
       "5     yu  cse-ds  87.20  75.30  62.30  45.30  21HU1A4406\n",
       "6      u  cse-ds  36.30  67.20  48.30  33.25  21HU1A4407\n",
       "7      i  cse-ds  55.30  98.30  45.30  99.20  21HU1A4408\n",
       "8      o  cse-ds  45.30  65.20  89.50  55.65  21HU1A4409\n",
       "9      p  cse-ds  45.60  65.20  75.30  89.20  21HU1A4410\n",
       "10     a  cse-ds  78.60  55.65  67.20  87.20  21HU1A4411\n",
       "11     s  cse-ds  62.30  33.25  98.30  36.30  21HU1A4412\n",
       "12     d  cse-ds  48.30  99.20  65.20   5.20  21HU1A4413\n",
       "13     f  cse-ds  45.30  55.65  78.60  45.30  21HU1A4414\n",
       "14     g  cse-ds  89.50  89.20  62.30  78.60  21HU1A4415\n",
       "15     h  cse-ds  75.30  87.20  48.30  62.30  21HU1A4416\n",
       "16     j  cse-ds  67.20  36.30  45.30  48.30  21HU1A4417\n",
       "17     k  cse-ds  98.30  55.20  55.65  45.30  21HU1A4418\n",
       "18     l  cse-ds  65.20  45.30  89.20    NaN  21HU1A4419"
      ]
     },
     "execution_count": 1,
     "metadata": {},
     "output_type": "execute_result"
    }
   ],
   "source": [
    "import pandas as pd \n",
    "i=pd .read_csv(\"C:/Users/eswar/Documents/sem  sheet.csv\")\n",
    "i"
   ]
  },
  {
   "cell_type": "code",
   "execution_count": 2,
   "id": "442ff3a8-a0aa-447a-a629-a59ae0aa5122",
   "metadata": {},
   "outputs": [
    {
     "data": {
      "text/html": [
       "<div>\n",
       "<style scoped>\n",
       "    .dataframe tbody tr th:only-of-type {\n",
       "        vertical-align: middle;\n",
       "    }\n",
       "\n",
       "    .dataframe tbody tr th {\n",
       "        vertical-align: top;\n",
       "    }\n",
       "\n",
       "    .dataframe thead th {\n",
       "        text-align: right;\n",
       "    }\n",
       "</style>\n",
       "<table border=\"1\" class=\"dataframe\">\n",
       "  <thead>\n",
       "    <tr style=\"text-align: right;\">\n",
       "      <th></th>\n",
       "      <th>sem1</th>\n",
       "      <th>sem2</th>\n",
       "      <th>sem3</th>\n",
       "      <th>sem4</th>\n",
       "    </tr>\n",
       "  </thead>\n",
       "  <tbody>\n",
       "    <tr>\n",
       "      <th>count</th>\n",
       "      <td>19.000000</td>\n",
       "      <td>19.000000</td>\n",
       "      <td>19.000000</td>\n",
       "      <td>18.000000</td>\n",
       "    </tr>\n",
       "    <tr>\n",
       "      <th>mean</th>\n",
       "      <td>64.876316</td>\n",
       "      <td>65.902632</td>\n",
       "      <td>65.965789</td>\n",
       "      <td>55.813889</td>\n",
       "    </tr>\n",
       "    <tr>\n",
       "      <th>std</th>\n",
       "      <td>20.806392</td>\n",
       "      <td>20.279639</td>\n",
       "      <td>20.066286</td>\n",
       "      <td>28.102181</td>\n",
       "    </tr>\n",
       "    <tr>\n",
       "      <th>min</th>\n",
       "      <td>33.250000</td>\n",
       "      <td>33.250000</td>\n",
       "      <td>33.250000</td>\n",
       "      <td>5.200000</td>\n",
       "    </tr>\n",
       "    <tr>\n",
       "      <th>25%</th>\n",
       "      <td>46.950000</td>\n",
       "      <td>51.750000</td>\n",
       "      <td>48.300000</td>\n",
       "      <td>38.550000</td>\n",
       "    </tr>\n",
       "    <tr>\n",
       "      <th>50%</th>\n",
       "      <td>62.300000</td>\n",
       "      <td>65.200000</td>\n",
       "      <td>62.300000</td>\n",
       "      <td>51.975000</td>\n",
       "    </tr>\n",
       "    <tr>\n",
       "      <th>75%</th>\n",
       "      <td>82.900000</td>\n",
       "      <td>82.900000</td>\n",
       "      <td>83.900000</td>\n",
       "      <td>85.050000</td>\n",
       "    </tr>\n",
       "    <tr>\n",
       "      <th>max</th>\n",
       "      <td>99.200000</td>\n",
       "      <td>99.200000</td>\n",
       "      <td>99.200000</td>\n",
       "      <td>99.200000</td>\n",
       "    </tr>\n",
       "  </tbody>\n",
       "</table>\n",
       "</div>"
      ],
      "text/plain": [
       "            sem1       sem2       sem3       sem4\n",
       "count  19.000000  19.000000  19.000000  18.000000\n",
       "mean   64.876316  65.902632  65.965789  55.813889\n",
       "std    20.806392  20.279639  20.066286  28.102181\n",
       "min    33.250000  33.250000  33.250000   5.200000\n",
       "25%    46.950000  51.750000  48.300000  38.550000\n",
       "50%    62.300000  65.200000  62.300000  51.975000\n",
       "75%    82.900000  82.900000  83.900000  85.050000\n",
       "max    99.200000  99.200000  99.200000  99.200000"
      ]
     },
     "execution_count": 2,
     "metadata": {},
     "output_type": "execute_result"
    }
   ],
   "source": [
    "i.describe()"
   ]
  },
  {
   "cell_type": "code",
   "execution_count": 3,
   "id": "0bca71f4-8206-482f-a5b5-c48de3877020",
   "metadata": {},
   "outputs": [
    {
     "data": {
      "text/plain": [
       "46.95"
      ]
     },
     "execution_count": 3,
     "metadata": {},
     "output_type": "execute_result"
    }
   ],
   "source": [
    "i.sem1.quantile(0.25)"
   ]
  },
  {
   "cell_type": "code",
   "execution_count": 4,
   "id": "e8468f7d-e7c3-4679-a547-4f41d2890301",
   "metadata": {},
   "outputs": [
    {
     "data": {
      "text/plain": [
       "51.75"
      ]
     },
     "execution_count": 4,
     "metadata": {},
     "output_type": "execute_result"
    }
   ],
   "source": [
    "i.sem2.quantile(0.25)"
   ]
  },
  {
   "cell_type": "code",
   "execution_count": 5,
   "id": "555f9a7e-7de2-4876-9a84-6e22adebc7e3",
   "metadata": {},
   "outputs": [
    {
     "data": {
      "text/plain": [
       "91.25999999999999"
      ]
     },
     "execution_count": 5,
     "metadata": {},
     "output_type": "execute_result"
    }
   ],
   "source": [
    "i.sem1.quantile(0.90)"
   ]
  },
  {
   "cell_type": "code",
   "execution_count": 17,
   "id": "0769330a-141b-4212-9425-4bbd59ea3593",
   "metadata": {},
   "outputs": [
    {
     "data": {
      "text/plain": [
       "<Axes: xlabel='sem1', ylabel='Count'>"
      ]
     },
     "execution_count": 17,
     "metadata": {},
     "output_type": "execute_result"
    },
    {
     "data": {
      "image/png": "[encoded data removed]",
      "text/plain": [
       "<Figure size 640x480 with 1 Axes>"
      ]
     },
     "metadata": {},
     "output_type": "display_data"
    }
   ],
   "source": [
    "import seaborn as sn\n",
    "import matplotlib.pyplot as plt \n",
    "\n",
    "sn.histplot(i.sem1)# obsrve digram 40,70,80 are comparsion diffcult using log function"
   ]
  },
  {
   "cell_type": "code",
   "execution_count": 2,
   "id": "f1d1f9c7-3522-41d8-ae39-87e27a8ec8e0",
   "metadata": {},
   "outputs": [
    {
     "data": {
      "text/plain": [
       "<Axes: xlabel='names'>"
      ]
     },
     "execution_count": 2,
     "metadata": {},
     "output_type": "execute_result"
    },
    {
     "data": {
      "image/png": "[encoded data removed]",
      "text/plain": [
       "<Figure size 640x480 with 1 Axes>"
      ]
     },
     "metadata": {},
     "output_type": "display_data"
    }
   ],
   "source": [
    "i.plot(x=\"names\",y=\"sem1\",kind=\"bar\")"
   ]
  },
  {
   "cell_type": "code",
   "execution_count": 3,
   "id": "20a5bdb7-99a0-4e9b-857f-5b5807247e59",
   "metadata": {},
   "outputs": [
    {
     "data": {
      "text/plain": [
       "<Axes: xlabel='names'>"
      ]
     },
     "execution_count": 3,
     "metadata": {},
     "output_type": "execute_result"
    },
    {
     "data": {
      "image/png": "[encoded data removed]",
      "text/plain": [
       "<Figure size 640x480 with 1 Axes>"
      ]
     },
     "metadata": {},
     "output_type": "display_data"
    }
   ],
   "source": [
    "i.plot(x=\"names\",y=\"sem1\",kind=\"bar\",logy=True)"
   ]
  },
  {
   "cell_type": "code",
   "execution_count": 17,
   "id": "21f0fac2-f9dd-49e9-8677-26b3f6f71a38",
   "metadata": {},
   "outputs": [],
   "source": [
    "j=pd.read_csv(\"C:/Users/eswar/Documents/income and sales.csv\")\n",
    "j\n",
    "import seaborn as sn"
   ]
  },
  {
   "cell_type": "code",
   "execution_count": 20,
   "id": "ae3d99e9-2b65-4891-9769-90e80ac3d403",
   "metadata": {},
   "outputs": [
    {
     "data": {
      "text/html": [
       "<div>\n",
       "<style scoped>\n",
       "    .dataframe tbody tr th:only-of-type {\n",
       "        vertical-align: middle;\n",
       "    }\n",
       "\n",
       "    .dataframe tbody tr th {\n",
       "        vertical-align: top;\n",
       "    }\n",
       "\n",
       "    .dataframe thead th {\n",
       "        text-align: right;\n",
       "    }\n",
       "</style>\n",
       "<table border=\"1\" class=\"dataframe\">\n",
       "  <thead>\n",
       "    <tr style=\"text-align: right;\">\n",
       "      <th></th>\n",
       "      <th>monthly income</th>\n",
       "      <th>monthlysales</th>\n",
       "    </tr>\n",
       "  </thead>\n",
       "  <tbody>\n",
       "    <tr>\n",
       "      <th>count</th>\n",
       "      <td>19.000000</td>\n",
       "      <td>19.000000</td>\n",
       "    </tr>\n",
       "    <tr>\n",
       "      <th>mean</th>\n",
       "      <td>57794.947368</td>\n",
       "      <td>515.000000</td>\n",
       "    </tr>\n",
       "    <tr>\n",
       "      <th>std</th>\n",
       "      <td>31760.725708</td>\n",
       "      <td>285.705559</td>\n",
       "    </tr>\n",
       "    <tr>\n",
       "      <th>min</th>\n",
       "      <td>2548.000000</td>\n",
       "      <td>96.000000</td>\n",
       "    </tr>\n",
       "    <tr>\n",
       "      <th>25%</th>\n",
       "      <td>35000.000000</td>\n",
       "      <td>253.500000</td>\n",
       "    </tr>\n",
       "    <tr>\n",
       "      <th>50%</th>\n",
       "      <td>65000.000000</td>\n",
       "      <td>488.000000</td>\n",
       "    </tr>\n",
       "    <tr>\n",
       "      <th>75%</th>\n",
       "      <td>81500.000000</td>\n",
       "      <td>765.000000</td>\n",
       "    </tr>\n",
       "    <tr>\n",
       "      <th>max</th>\n",
       "      <td>100000.000000</td>\n",
       "      <td>987.000000</td>\n",
       "    </tr>\n",
       "  </tbody>\n",
       "</table>\n",
       "</div>"
      ],
      "text/plain": [
       "       monthly income   monthlysales\n",
       "count       19.000000      19.000000\n",
       "mean     57794.947368     515.000000\n",
       "std      31760.725708     285.705559\n",
       "min       2548.000000      96.000000\n",
       "25%      35000.000000     253.500000\n",
       "50%      65000.000000     488.000000\n",
       "75%      81500.000000     765.000000\n",
       "max     100000.000000     987.000000"
      ]
     },
     "execution_count": 20,
     "metadata": {},
     "output_type": "execute_result"
    },
    {
     "data": {
      "image/png": "[encoded data removed]",
      "text/plain": [
       "<Figure size 640x480 with 1 Axes>"
      ]
     },
     "metadata": {},
     "output_type": "display_data"
    }
   ],
   "source": [
    "j.plot(x=\"names\",y=\"monthly income\",kind=\"pie\",logy=True,)\n",
    "j.describe()"
   ]
  },
  {
   "cell_type": "code",
   "execution_count": 22,
   "id": "87050e55-f4c3-4d59-9427-3ceb80635e22",
   "metadata": {},
   "outputs": [
    {
     "ename": "AttributeError",
     "evalue": "'DataFrame' object has no attribute 'monthlyincome'",
     "output_type": "error",
     "traceback": [
      "\u001b[1;31m---------------------------------------------------------------------------\u001b[0m",
      "\u001b[1;31mAttributeError\u001b[0m                            Traceback (most recent call last)",
      "\u001b[1;32m~\\AppData\\Local\\Temp\\ipykernel_17332\\4274447587.py\u001b[0m in \u001b[0;36m?\u001b[1;34m()\u001b[0m\n\u001b[1;32m----> 1\u001b[1;33m \u001b[0msn\u001b[0m\u001b[1;33m.\u001b[0m\u001b[0mhistplot\u001b[0m\u001b[1;33m(\u001b[0m\u001b[0mj\u001b[0m\u001b[1;33m.\u001b[0m\u001b[0mmonthlyincome\u001b[0m\u001b[1;33m)\u001b[0m\u001b[1;33m\u001b[0m\u001b[1;33m\u001b[0m\u001b[0m\n\u001b[0m",
      "\u001b[1;32mC:\\py11\\Lib\\site-packages\\pandas\\core\\generic.py\u001b[0m in \u001b[0;36m?\u001b[1;34m(self, name)\u001b[0m\n\u001b[0;32m   6200\u001b[0m             \u001b[1;32mand\u001b[0m \u001b[0mname\u001b[0m \u001b[1;32mnot\u001b[0m \u001b[1;32min\u001b[0m \u001b[0mself\u001b[0m\u001b[1;33m.\u001b[0m\u001b[0m_accessors\u001b[0m\u001b[1;33m\u001b[0m\u001b[1;33m\u001b[0m\u001b[0m\n\u001b[0;32m   6201\u001b[0m             \u001b[1;32mand\u001b[0m \u001b[0mself\u001b[0m\u001b[1;33m.\u001b[0m\u001b[0m_info_axis\u001b[0m\u001b[1;33m.\u001b[0m\u001b[0m_can_hold_identifiers_and_holds_name\u001b[0m\u001b[1;33m(\u001b[0m\u001b[0mname\u001b[0m\u001b[1;33m)\u001b[0m\u001b[1;33m\u001b[0m\u001b[1;33m\u001b[0m\u001b[0m\n\u001b[0;32m   6202\u001b[0m         ):\n\u001b[0;32m   6203\u001b[0m             \u001b[1;32mreturn\u001b[0m \u001b[0mself\u001b[0m\u001b[1;33m[\u001b[0m\u001b[0mname\u001b[0m\u001b[1;33m]\u001b[0m\u001b[1;33m\u001b[0m\u001b[1;33m\u001b[0m\u001b[0m\n\u001b[1;32m-> 6204\u001b[1;33m         \u001b[1;32mreturn\u001b[0m \u001b[0mobject\u001b[0m\u001b[1;33m.\u001b[0m\u001b[0m__getattribute__\u001b[0m\u001b[1;33m(\u001b[0m\u001b[0mself\u001b[0m\u001b[1;33m,\u001b[0m \u001b[0mname\u001b[0m\u001b[1;33m)\u001b[0m\u001b[1;33m\u001b[0m\u001b[1;33m\u001b[0m\u001b[0m\n\u001b[0m",
      "\u001b[1;31mAttributeError\u001b[0m: 'DataFrame' object has no attribute 'monthlyincome'"
     ]
    }
   ],
   "source": [
    "sn.histplot(j.monthlyincome)"
   ]
  },
  {
   "cell_type": "code",
   "execution_count": null,
   "id": "fb0284de-e30c-4e3b-ae4d-f060f103e075",
   "metadata": {},
   "outputs": [],
   "source": []
  }
 ],
 "metadata": {
  "kernelspec": {
   "display_name": "Python 3 (ipykernel)",
   "language": "python",
   "name": "python3"
  },
  "language_info": {
   "codemirror_mode": {
    "name": "ipython",
    "version": 3
   },
   "file_extension": ".py",
   "mimetype": "text/x-python",
   "name": "python",
   "nbconvert_exporter": "python",
   "pygments_lexer": "ipython3",
   "version": "3.11.7"
  }
 },
 "nbformat": 4,
 "nbformat_minor": 5
}
