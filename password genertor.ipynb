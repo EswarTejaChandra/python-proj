{
 "cells": [
  {
   "cell_type": "code",
   "execution_count": 9,
   "id": "18679795-212a-4a21-b9cb-0cf7751f1f9a",
   "metadata": {},
   "outputs": [
    {
     "name": "stdout",
     "output_type": "stream",
     "text": [
      "Generated Password: !y,CPN[N> :T\n"
     ]
    }
   ],
   "source": [
    "import random\n",
    "import string\n",
    "\n",
    "def generate_password(length=12):\n",
    "    # Define characters to use in the password\n",
    "    letters = string.ascii_letters\n",
    "    numbers = string.digits\n",
    "    special_chars = string.punctuation\n",
    "    space_bar = ' '\n",
    "    all_chars = letters + numbers + special_chars + space_bar\n",
    "\n",
    "    # Generate password\n",
    "    password = ''.join(random.choice(all_chars) for _ in range(length))\n",
    "    return password\n",
    "\n",
    "if __name__ == \"__main__\":\n",
    "    # Generate a password with default length 12\n",
    "    password = generate_password()\n",
    "    print(\"Generated Password:\", password)\n"
   ]
  },
  {
   "cell_type": "code",
   "execution_count": null,
   "id": "bfac706c-e8aa-4c7a-8f44-49cc87a4d215",
   "metadata": {},
   "outputs": [],
   "source": []
  },
  {
   "cell_type": "code",
   "execution_count": null,
   "id": "2121221b-0608-492b-9f51-948f4de49d27",
   "metadata": {},
   "outputs": [],
   "source": []
  }
 ],
 "metadata": {
  "kernelspec": {
   "display_name": "Python 3 (ipykernel)",
   "language": "python",
   "name": "python3"
  },
  "language_info": {
   "codemirror_mode": {
    "name": "ipython",
    "version": 3
   },
   "file_extension": ".py",
   "mimetype": "text/x-python",
   "name": "python",
   "nbconvert_exporter": "python",
   "pygments_lexer": "ipython3",
   "version": "3.12.1"
  }
 },
 "nbformat": 4,
 "nbformat_minor": 5
}
