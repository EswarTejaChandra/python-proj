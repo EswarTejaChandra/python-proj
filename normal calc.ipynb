{
 "cells": [
  {
   "cell_type": "code",
   "execution_count": 6,
   "id": "4fbaa051-5e42-4dfd-be8a-6698e648bf6f",
   "metadata": {},
   "outputs": [],
   "source": [
    "import tkinter as tk\n",
    "\n",
    "def press_key(key):\n",
    "    if key == 'C':\n",
    "        entry.delete(0, tk.END)\n",
    "    elif key == '=':\n",
    "        try:\n",
    "            result = eval(entry.get())\n",
    "            entry.delete(0, tk.END)\n",
    "            entry.insert(tk.END, str(result))\n",
    "        except:\n",
    "            entry.delete(0, tk.END)\n",
    "            entry.insert(tk.END, \"Error\")\n",
    "    else:\n",
    "        entry.insert(tk.END, key)\n",
    "\n",
    "def create_button(text, row, col, col_span=1, bg='white', fg='black'):\n",
    "    button = tk.Button(root, text=text, command=lambda: press_key(text), width=5, height=2, bg=bg, fg=fg)\n",
    "    button.grid(row=row, column=col, columnspan=col_span, padx=5, pady=5, sticky='nesw')\n",
    "\n",
    "root = tk.Tk()\n",
    "root.title(\"Simple Calculator\")\n",
    "root.configure(bg='white')\n",
    "\n",
    "entry = tk.Entry(root, font=('Arial', 14), justify='right', bg='white', fg='black')\n",
    "entry.grid(row=0, column=0, columnspan=4, padx=10, pady=10, sticky='nesw')\n",
    "\n",
    "buttons = [\n",
    "    ('7', 1, 0), ('8', 1, 1), ('9', 1, 2), ('/', 1, 3),\n",
    "    ('4', 2, 0), ('5', 2, 1), ('6', 2, 2), ('*', 2, 3),\n",
    "    ('1', 3, 0), ('2', 3, 1), ('3', 3, 2), ('-', 3, 3),\n",
    "    ('0', 4, 0), ('.', 4, 1), ('C', 4, 2), ('+', 4, 3),\n",
    "    ('=', 5, 0, 1, 'orange')\n",
    "]\n",
    "\n",
    "for button in buttons:\n",
    "    if button[0] in '0123456789.':\n",
    "        create_button(*button, bg='white', fg='black')\n",
    "    else:\n",
    "        create_button(button[0], button[1], button[2], bg='black', fg='white')\n",
    "\n",
    "root.mainloop()\n"
   ]
  },
  {
   "cell_type": "code",
   "execution_count": null,
   "id": "0fed49db-ff39-4886-8ce6-c820f489bdac",
   "metadata": {},
   "outputs": [],
   "source": []
  }
 ],
 "metadata": {
  "kernelspec": {
   "display_name": "Python 3 (ipykernel)",
   "language": "python",
   "name": "python3"
  },
  "language_info": {
   "codemirror_mode": {
    "name": "ipython",
    "version": 3
   },
   "file_extension": ".py",
   "mimetype": "text/x-python",
   "name": "python",
   "nbconvert_exporter": "python",
   "pygments_lexer": "ipython3",
   "version": "3.12.1"
  }
 },
 "nbformat": 4,
 "nbformat_minor": 5
}
