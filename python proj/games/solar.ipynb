{
 "cells": [
  {
   "cell_type": "code",
   "execution_count": 1,
   "id": "2bf2d125-5628-4186-a142-c64023c4c18a",
   "metadata": {},
   "outputs": [
    {
     "name": "stdout",
     "output_type": "stream",
     "text": [
      "pygame 2.5.2 (SDL 2.28.3, Python 3.11.7)\n",
      "Hello from the pygame community. https://www.pygame.org/contribute.html\n"
     ]
    },
    {
     "ename": "SystemExit",
     "evalue": "",
     "output_type": "error",
     "traceback": [
      "An exception has occurred, use %tb to see the full traceback.\n",
      "\u001b[1;31mSystemExit\u001b[0m\n"
     ]
    },
    {
     "name": "stderr",
     "output_type": "stream",
     "text": [
      "C:\\py11\\Lib\\site-packages\\IPython\\core\\interactiveshell.py:3561: UserWarning: To exit: use 'exit', 'quit', or Ctrl-D.\n",
      "  warn(\"To exit: use 'exit', 'quit', or Ctrl-D.\", stacklevel=1)\n"
     ]
    }
   ],
   "source": [
    "import pygame\n",
    "import sys\n",
    "import math\n",
    "\n",
    "# Initialize Pygame\n",
    "pygame.init()\n",
    "\n",
    "# Constants\n",
    "WIDTH, HEIGHT = 800, 600\n",
    "FPS = 60\n",
    "\n",
    "# Colors\n",
    "BLACK = (0, 0, 0)\n",
    "YELLOW = (255, 255, 0)\n",
    "GRAY = (169, 169, 169)\n",
    "\n",
    "# Planet data: [distance from the sun, radius, orbit speed, name]\n",
    "planets = [\n",
    "    {\"color\": (255, 0, 0), \"distance\": 50, \"radius\": 10, \"speed\": 0.02, \"name\": \"Mercury\"},\n",
    "    {\"color\": (255, 165, 0), \"distance\": 80, \"radius\": 15, \"speed\": 0.01, \"name\": \"Venus\"},\n",
    "    {\"color\": (0, 0, 255), \"distance\": 120, \"radius\": 20, \"speed\": 0.008, \"name\": \"Earth\"},\n",
    "    {\"color\": (255, 0, 0), \"distance\": 160, \"radius\": 18, \"speed\": 0.006, \"name\": \"Mars\"},\n",
    "    {\"color\": (255, 255, 0), \"distance\": 220, \"radius\": 40, \"speed\": 0.004, \"name\": \"Jupiter\"},\n",
    "    {\"color\": (255, 69, 0), \"distance\": 280, \"radius\": 35, \"speed\": 0.003, \"name\": \"Saturn\"},\n",
    "    {\"color\": (0, 0, 255), \"distance\": 340, \"radius\": 30, \"speed\": 0.002, \"name\": \"Uranus\"},\n",
    "    {\"color\": (0, 255, 255), \"distance\": 400, \"radius\": 25, \"speed\": 0.001, \"name\": \"Neptune\"},\n",
    "    {\"color\": (169, 169, 169), \"distance\": 460, \"radius\": 8, \"speed\": 0.0005, \"name\": \"Pluto\"},\n",
    "]\n",
    "\n",
    "# Speed factor for controlling the rotation speed of the entire solar system\n",
    "rotation_speed_factor = 1.0\n",
    "\n",
    "# Create the window\n",
    "screen = pygame.display.set_mode((WIDTH, HEIGHT))\n",
    "pygame.display.set_caption(\"Solar System Simulation\")\n",
    "clock = pygame.time.Clock()\n",
    "\n",
    "def draw_planet(planet, angle):\n",
    "    distance, radius, speed, name = planet[\"distance\"], planet[\"radius\"], planet[\"speed\"], planet[\"name\"]\n",
    "    x = int(WIDTH / 2 + distance * math.cos(angle))\n",
    "    y = int(HEIGHT / 2 + distance * math.sin(angle))\n",
    "    pygame.draw.circle(screen, planet[\"color\"], (x, y), radius)\n",
    "\n",
    "    # Draw planet name\n",
    "    font = pygame.font.Font(None, 24)\n",
    "    text = font.render(name, True, GRAY)\n",
    "    screen.blit(text, (x - radius, y + radius))\n",
    "\n",
    "# Main loop\n",
    "angle = 0\n",
    "while True:\n",
    "    for event in pygame.event.get():\n",
    "        if event.type == pygame.QUIT:\n",
    "            pygame.quit()\n",
    "            sys.exit()\n",
    "\n",
    "    screen.fill(BLACK)\n",
    "\n",
    "    # Draw sun\n",
    "    pygame.draw.circle(screen, YELLOW, (WIDTH // 2, HEIGHT // 2), 30)\n",
    "\n",
    "    # Draw planets\n",
    "    for planet in planets:\n",
    "        draw_planet(planet, angle)\n",
    "        angle += planet[\"speed\"] * rotation_speed_factor\n",
    "\n",
    "    pygame.display.flip()\n",
    "    clock.tick(FPS)\n"
   ]
  },
  {
   "cell_type": "code",
   "execution_count": null,
   "id": "0efbfde2-fee5-4508-bad2-9a4aad6cd80f",
   "metadata": {},
   "outputs": [],
   "source": []
  }
 ],
 "metadata": {
  "kernelspec": {
   "display_name": "Python 3 (ipykernel)",
   "language": "python",
   "name": "python3"
  },
  "language_info": {
   "codemirror_mode": {
    "name": "ipython",
    "version": 3
   },
   "file_extension": ".py",
   "mimetype": "text/x-python",
   "name": "python",
   "nbconvert_exporter": "python",
   "pygments_lexer": "ipython3",
   "version": "3.11.7"
  }
 },
 "nbformat": 4,
 "nbformat_minor": 5
}
