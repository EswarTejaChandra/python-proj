{
 "cells": [
  {
   "cell_type": "code",
   "execution_count": null,
   "id": "4ae1d613-1b31-4d83-8d0a-e612e3a07b01",
   "metadata": {},
   "outputs": [
    {
     "name": "stdout",
     "output_type": "stream",
     "text": [
      "Welcome to the Puzzle Game!\n",
      "Move the numbers to solve the puzzle.\n",
      "3 7 1\n",
      "4 8 5\n",
      "6 2\n",
      "0\n"
     ]
    }
   ],
   "source": [
    "import random\n",
    "\n",
    "def generate_puzzle(size):\n",
    "    numbers = list(range(1, size * size))\n",
    "    random.shuffle(numbers)\n",
    "    puzzle = [numbers[i:i + size] for i in range(0, len(numbers), size)]\n",
    "    puzzle.append([0])  # 0 represents the empty space\n",
    "    return puzzle\n",
    "\n",
    "def print_puzzle(puzzle):\n",
    "    for row in puzzle:\n",
    "        print(\" \".join(map(str, row)))\n",
    "\n",
    "def get_empty_position(puzzle):\n",
    "    for i, row in enumerate(puzzle):\n",
    "        if 0 in row:\n",
    "            return i, row.index(0)\n",
    "\n",
    "def move(tile, puzzle):\n",
    "    empty_row, empty_col = get_empty_position(puzzle)\n",
    "    tile_row, tile_col = get_empty_position(puzzle)\n",
    "    \n",
    "    # Check if the move is valid\n",
    "    if (tile_row == empty_row and abs(tile_col - empty_col) == 1) or \\\n",
    "       (tile_col == empty_col and abs(tile_row - empty_row) == 1):\n",
    "        # Swap positions\n",
    "        puzzle[empty_row][empty_col], puzzle[tile_row][tile_col] = puzzle[tile_row][tile_col], puzzle[empty_row][empty_col]\n",
    "        return True\n",
    "    else:\n",
    "        print(\"Invalid move. Try again.\")\n",
    "        return False\n",
    "\n",
    "def is_solved(puzzle):\n",
    "    size = len(puzzle)\n",
    "    return all(puzzle[i][j] == i * size + j + 1 for i in range(size) for j in range(size))\n",
    "\n",
    "def play_puzzle_game():\n",
    "    size = 3  # You can change the size of the puzzle\n",
    "    puzzle = generate_puzzle(size)\n",
    "\n",
    "    print(\"Welcome to the Puzzle Game!\")\n",
    "    print(\"Move the numbers to solve the puzzle.\")\n",
    "    print_puzzle(puzzle)\n",
    "\n",
    "    while not is_solved(puzzle):\n",
    "        try:\n",
    "            tile = int(input(\"Enter the number you want to move (0 to quit): \"))\n",
    "            if tile == 0:\n",
    "                print(\"Quitting the game.\")\n",
    "                break\n",
    "            if tile < 1 or tile > (size * size - 1):\n",
    "                print(\"Invalid input. Please enter a valid number.\")\n",
    "                continue\n",
    "\n",
    "            if move(tile, puzzle):\n",
    "                print_puzzle(puzzle)\n",
    "        except ValueError:\n",
    "            print(\"Invalid input. Please enter a number.\")\n",
    "\n",
    "    if is_solved(puzzle):\n",
    "        print(\"Congratulations! You solved the puzzle!\")\n",
    "\n",
    "if __name__ == \"__main__\":\n",
    "    play_puzzle_game()\n"
   ]
  },
  {
   "cell_type": "code",
   "execution_count": null,
   "id": "5acbe23d-eac6-4b5b-9fb6-3e2c2063be5f",
   "metadata": {},
   "outputs": [],
   "source": []
  }
 ],
 "metadata": {
  "kernelspec": {
   "display_name": "Python 3 (ipykernel)",
   "language": "python",
   "name": "python3"
  },
  "language_info": {
   "codemirror_mode": {
    "name": "ipython",
    "version": 3
   },
   "file_extension": ".py",
   "mimetype": "text/x-python",
   "name": "python",
   "nbconvert_exporter": "python",
   "pygments_lexer": "ipython3",
   "version": "3.11.7"
  }
 },
 "nbformat": 4,
 "nbformat_minor": 5
}
