{
 "cells": [
  {
   "cell_type": "code",
   "execution_count": 1,
   "id": "b154db84-8454-4513-b7e4-046df3989ae3",
   "metadata": {},
   "outputs": [
    {
     "name": "stdout",
     "output_type": "stream",
     "text": [
      "Welcome to the Adventure Game!\n",
      "You find yourself in a mysterious land.\n",
      "Your goal is to reach the treasure.\n",
      "Let the adventure begin!\n",
      "\n",
      "You come to a fork in the road. Do you go left or right?\n"
     ]
    },
    {
     "name": "stdin",
     "output_type": "stream",
     "text": [
      "Enter 'left' or 'right':  right\n"
     ]
    },
    {
     "name": "stdout",
     "output_type": "stream",
     "text": [
      "You venture into a dark forest.\n",
      "You hear strange noises in the forest.\n",
      "Suddenly, a wild creature appears!\n",
      "Do you 'fight' or 'run away'?\n"
     ]
    },
    {
     "name": "stdin",
     "output_type": "stream",
     "text": [
      " fight\n"
     ]
    },
    {
     "name": "stdout",
     "output_type": "stream",
     "text": [
      "You defeat the creature and continue your journey.\n",
      "Congratulations! You found the hidden treasure.\n",
      "You are a true adventurer!\n"
     ]
    }
   ],
   "source": [
    "import time\n",
    "import random\n",
    "\n",
    "def introduction():\n",
    "    print(\"Welcome to the Adventure Game!\")\n",
    "    time.sleep(1)\n",
    "    print(\"You find yourself in a mysterious land.\")\n",
    "    time.sleep(1)\n",
    "    print(\"Your goal is to reach the treasure.\")\n",
    "    time.sleep(1)\n",
    "    print(\"Let the adventure begin!\\n\")\n",
    "\n",
    "def choose_path():\n",
    "    print(\"You come to a fork in the road. Do you go left or right?\")\n",
    "    choice = input(\"Enter 'left' or 'right': \").lower()\n",
    "\n",
    "    if choice == \"left\":\n",
    "        print(\"You encounter a friendly wizard who offers to guide you.\")\n",
    "        return \"wizard\"\n",
    "    elif choice == \"right\":\n",
    "        print(\"You venture into a dark forest.\")\n",
    "        return \"forest\"\n",
    "    else:\n",
    "        print(\"Invalid choice. Try again.\")\n",
    "        return choose_path()\n",
    "\n",
    "def wizard_path():\n",
    "    print(\"The wizard leads you safely through the enchanted forest.\")\n",
    "    time.sleep(1)\n",
    "    print(\"He tells you about a magical shortcut.\")\n",
    "    time.sleep(1)\n",
    "    print(\"You arrive at the edge of a cliff.\")\n",
    "    time.sleep(1)\n",
    "    print(\"Do you 'jump' or 'climb down' the cliff?\")\n",
    "    choice = input().lower()\n",
    "\n",
    "    if choice == \"jump\":\n",
    "        print(\"You take a leap of faith and land safely below.\")\n",
    "        return \"treasure\"\n",
    "    elif choice == \"climb down\":\n",
    "        print(\"You carefully climb down the cliff.\")\n",
    "        return \"treasure\"\n",
    "    else:\n",
    "        print(\"Invalid choice. Try again.\")\n",
    "        return wizard_path()\n",
    "\n",
    "def forest_path():\n",
    "    print(\"You hear strange noises in the forest.\")\n",
    "    time.sleep(1)\n",
    "    print(\"Suddenly, a wild creature appears!\")\n",
    "    time.sleep(1)\n",
    "    print(\"Do you 'fight' or 'run away'?\")\n",
    "    choice = input().lower()\n",
    "\n",
    "    if choice == \"fight\":\n",
    "        print(\"You defeat the creature and continue your journey.\")\n",
    "        return \"treasure\"\n",
    "    elif choice == \"run away\":\n",
    "        print(\"You manage to escape, but lose your way.\")\n",
    "        return \"lost\"\n",
    "    else:\n",
    "        print(\"Invalid choice. Try again.\")\n",
    "        return forest_path()\n",
    "\n",
    "def treasure_path():\n",
    "    print(\"Congratulations! You found the hidden treasure.\")\n",
    "    print(\"You are a true adventurer!\")\n",
    "\n",
    "def lost_path():\n",
    "    print(\"You're lost in the forest.\")\n",
    "    time.sleep(1)\n",
    "    print(\"After wandering for a while, you find your way back.\")\n",
    "    return \"treasure\"\n",
    "\n",
    "def play_game():\n",
    "    introduction()\n",
    "    path = choose_path()\n",
    "\n",
    "    if path == \"wizard\":\n",
    "        path = wizard_path()\n",
    "    elif path == \"forest\":\n",
    "        path = forest_path()\n",
    "\n",
    "    if path == \"treasure\":\n",
    "        treasure_path()\n",
    "    elif path == \"lost\":\n",
    "        lost_path()\n",
    "\n",
    "if __name__ == \"__main__\":\n",
    "    play_game()\n"
   ]
  },
  {
   "cell_type": "code",
   "execution_count": null,
   "id": "e9d4bf8e-3019-4581-bcc9-c0d441e18deb",
   "metadata": {},
   "outputs": [],
   "source": []
  },
  {
   "cell_type": "code",
   "execution_count": null,
   "id": "08d9aeb0-0c2c-41e2-8af3-b1503db9c698",
   "metadata": {},
   "outputs": [],
   "source": []
  }
 ],
 "metadata": {
  "kernelspec": {
   "display_name": "Python 3 (ipykernel)",
   "language": "python",
   "name": "python3"
  },
  "language_info": {
   "codemirror_mode": {
    "name": "ipython",
    "version": 3
   },
   "file_extension": ".py",
   "mimetype": "text/x-python",
   "name": "python",
   "nbconvert_exporter": "python",
   "pygments_lexer": "ipython3",
   "version": "3.11.7"
  }
 },
 "nbformat": 4,
 "nbformat_minor": 5
}
