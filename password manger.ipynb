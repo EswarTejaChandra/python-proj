{
 "cells": [
  {
   "cell_type": "code",
   "execution_count": 3,
   "id": "c569b0cc-1b4c-4436-ab7c-e178dd0c2399",
   "metadata": {},
   "outputs": [
    {
     "name": "stdout",
     "output_type": "stream",
     "text": [
      "Welcome to Password Manager\n",
      "1. Save password\n",
      "2. Retrieve password\n"
     ]
    },
    {
     "name": "stdin",
     "output_type": "stream",
     "text": [
      "Enter your choice:  2\n",
      "Enter account name:  fb\n"
     ]
    },
    {
     "name": "stdout",
     "output_type": "stream",
     "text": [
      "Password for fb is: 123456\n"
     ]
    }
   ],
   "source": [
    "from cryptography.fernet import Fernet\n",
    "import os\n",
    "\n",
    "class PasswordManager:\n",
    "    def __init__(self, master_password):\n",
    "        self.master_password = master_password.encode()\n",
    "        self.key = None\n",
    "        self.load_or_generate_key()\n",
    "\n",
    "    def load_or_generate_key(self):\n",
    "        key_file = 'key.key'\n",
    "        if os.path.exists(key_file):\n",
    "            with open(key_file, 'rb') as f:\n",
    "                self.key = f.read()\n",
    "        else:\n",
    "            self.key = Fernet.generate_key()\n",
    "            with open(key_file, 'wb') as f:\n",
    "                f.write(self.key)\n",
    "\n",
    "    def encrypt_password(self, password):\n",
    "        f = Fernet(self.key)\n",
    "        return f.encrypt(password.encode()).decode()\n",
    "\n",
    "    def decrypt_password(self, encrypted_password):\n",
    "        f = Fernet(self.key)\n",
    "        return f.decrypt(encrypted_password.encode()).decode()\n",
    "\n",
    "    def save_password(self, account, password):\n",
    "        with open('passwords.txt', 'a') as f:\n",
    "            encrypted_password = self.encrypt_password(password)\n",
    "            f.write(f\"{account}: {encrypted_password}\\n\")\n",
    "\n",
    "    def get_password(self, account):\n",
    "        with open('passwords.txt', 'r') as f:\n",
    "            for line in f:\n",
    "                parts = line.strip().split(': ')\n",
    "                if parts[0] == account:\n",
    "                    return self.decrypt_password(parts[1])\n",
    "        return None\n",
    "\n",
    "if __name__ == \"__main__\":\n",
    "    pm = PasswordManager(\"your_master_password\")\n",
    "\n",
    "    print(\"Welcome to Password Manager\")\n",
    "    print(\"1. Save password\")\n",
    "    print(\"2. Retrieve password\")\n",
    "    choice = input(\"Enter your choice: \")\n",
    "\n",
    "    if choice == \"1\":\n",
    "        account = input(\"Enter account name: \")\n",
    "        password = input(\"Enter password: \")\n",
    "        pm.save_password(account, password)\n",
    "        print(\"Password saved successfully!\")\n",
    "    elif choice == \"2\":\n",
    "        account = input(\"Enter account name: \")\n",
    "        password = pm.get_password(account)\n",
    "        if password:\n",
    "            print(f\"Password for {account} is: {password}\")\n",
    "        else:\n",
    "            print(\"Password not found!\")\n",
    "    else:\n",
    "        print(\"Invalid choice\")\n"
   ]
  },
  {
   "cell_type": "code",
   "execution_count": null,
   "id": "2f8dfa20-579f-45e3-b107-a5d18ce4306a",
   "metadata": {},
   "outputs": [],
   "source": []
  },
  {
   "cell_type": "code",
   "execution_count": null,
   "id": "85498484-e8d9-43ed-a0a1-fa6c28cb2954",
   "metadata": {},
   "outputs": [],
   "source": []
  },
  {
   "cell_type": "code",
   "execution_count": null,
   "id": "d4ab6b5e-85fb-4f08-a874-9b08de7bb5f3",
   "metadata": {},
   "outputs": [],
   "source": []
  }
 ],
 "metadata": {
  "kernelspec": {
   "display_name": "Python 3 (ipykernel)",
   "language": "python",
   "name": "python3"
  },
  "language_info": {
   "codemirror_mode": {
    "name": "ipython",
    "version": 3
   },
   "file_extension": ".py",
   "mimetype": "text/x-python",
   "name": "python",
   "nbconvert_exporter": "python",
   "pygments_lexer": "ipython3",
   "version": "3.12.1"
  }
 },
 "nbformat": 4,
 "nbformat_minor": 5
}
